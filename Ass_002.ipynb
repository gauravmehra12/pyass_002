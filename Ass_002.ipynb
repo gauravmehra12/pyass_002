{
 "cells": [
  {
   "cell_type": "markdown",
   "id": "8f0d5d91",
   "metadata": {},
   "source": [
    "Q1. What are the two values of the Boolean data type? How do you write them?"
   ]
  },
  {
   "cell_type": "code",
   "execution_count": null,
   "id": "4b9c7c12",
   "metadata": {},
   "outputs": [],
   "source": [
    "#ans1.\n",
    "# The two value of Boolean data type : true and false (can say 1 and 0 respectively)\n",
    "# We can write them as True / False as shown below:"
   ]
  },
  {
   "cell_type": "code",
   "execution_count": 1,
   "id": "f4f62a1e",
   "metadata": {},
   "outputs": [
    {
     "data": {
      "text/plain": [
       "True"
      ]
     },
     "execution_count": 1,
     "metadata": {},
     "output_type": "execute_result"
    }
   ],
   "source": [
    "3<5"
   ]
  },
  {
   "cell_type": "code",
   "execution_count": 2,
   "id": "5a303917",
   "metadata": {},
   "outputs": [
    {
     "data": {
      "text/plain": [
       "False"
      ]
     },
     "execution_count": 2,
     "metadata": {},
     "output_type": "execute_result"
    }
   ],
   "source": [
    "3>5"
   ]
  },
  {
   "cell_type": "markdown",
   "id": "69dd2dd4",
   "metadata": {},
   "source": [
    "Q2. What are the three different types of Boolean operators?"
   ]
  },
  {
   "cell_type": "code",
   "execution_count": null,
   "id": "24620496",
   "metadata": {},
   "outputs": [],
   "source": [
    "#ans2. \n",
    "# Three different types of Boolean operators are: and , or , not "
   ]
  },
  {
   "cell_type": "markdown",
   "id": "1066b84a",
   "metadata": {},
   "source": [
    "Q3. Make a list of each Boolean operator's truth tables (i.e. every possible combination of Boolean values for the operator and what it evaluate )."
   ]
  },
  {
   "cell_type": "code",
   "execution_count": null,
   "id": "269e01da",
   "metadata": {},
   "outputs": [],
   "source": [
    "#ans3."
   ]
  },
  {
   "cell_type": "markdown",
   "id": "fe73ef3b",
   "metadata": {},
   "source": [
    "for and operator\n",
    "\n",
    "| value || operator || value || result |\n",
    "| - || - || - || - |\n",
    "| True || and || True || True |\n",
    "| True || and || False || False |\n",
    "| False || and || True || False |\n",
    "| False || and || False || False |"
   ]
  },
  {
   "cell_type": "markdown",
   "id": "3aa4a9cd",
   "metadata": {},
   "source": [
    "for or operator\n",
    "\n",
    "| value || operator || value || result |\n",
    "| - || - || - || - |\n",
    "| True || or || True || True |\n",
    "| True || or || False || True |\n",
    "| False || or || True || True |\n",
    "| False || or || False || False |"
   ]
  },
  {
   "cell_type": "markdown",
   "id": "d6263f60",
   "metadata": {},
   "source": [
    "for not operator\n",
    "\n",
    "| operator || value || result |\n",
    "| - || - || - |\n",
    "| not || True || False |\n",
    "| not || False || True |"
   ]
  },
  {
   "cell_type": "markdown",
   "id": "a55180f7",
   "metadata": {},
   "source": [
    "Q4. What are the values of the following expressions?\n",
    "\n",
    "(5 > 4) and (3 == 5)\n",
    "\n",
    "not (5 > 4)\n",
    "\n",
    "(5 > 4) or (3 == 5)\n",
    "\n",
    "not ((5 > 4) or (3 == 5))\n",
    "\n",
    "(True and True) and (True == False)\n",
    "\n",
    "(not False) or (not True)"
   ]
  },
  {
   "cell_type": "code",
   "execution_count": null,
   "id": "a58cae37",
   "metadata": {},
   "outputs": [],
   "source": [
    "#ans4.\n",
    "# The values of following are evaluated below"
   ]
  },
  {
   "cell_type": "code",
   "execution_count": 3,
   "id": "04a6d9cf",
   "metadata": {},
   "outputs": [
    {
     "data": {
      "text/plain": [
       "False"
      ]
     },
     "execution_count": 3,
     "metadata": {},
     "output_type": "execute_result"
    }
   ],
   "source": [
    "(5 > 4) and (3 == 5)\n",
    "# False"
   ]
  },
  {
   "cell_type": "code",
   "execution_count": 4,
   "id": "ae4f5c72",
   "metadata": {},
   "outputs": [
    {
     "data": {
      "text/plain": [
       "False"
      ]
     },
     "execution_count": 4,
     "metadata": {},
     "output_type": "execute_result"
    }
   ],
   "source": [
    "not (5 > 4)\n",
    "# False"
   ]
  },
  {
   "cell_type": "code",
   "execution_count": 5,
   "id": "050bbe42",
   "metadata": {},
   "outputs": [
    {
     "data": {
      "text/plain": [
       "True"
      ]
     },
     "execution_count": 5,
     "metadata": {},
     "output_type": "execute_result"
    }
   ],
   "source": [
    "(5 > 4) or (3 == 5)\n",
    "# True"
   ]
  },
  {
   "cell_type": "code",
   "execution_count": 6,
   "id": "76f913b3",
   "metadata": {},
   "outputs": [
    {
     "data": {
      "text/plain": [
       "False"
      ]
     },
     "execution_count": 6,
     "metadata": {},
     "output_type": "execute_result"
    }
   ],
   "source": [
    "not ((5 > 4) or (3 == 5))\n",
    "# False"
   ]
  },
  {
   "cell_type": "code",
   "execution_count": 7,
   "id": "f2247433",
   "metadata": {},
   "outputs": [
    {
     "data": {
      "text/plain": [
       "False"
      ]
     },
     "execution_count": 7,
     "metadata": {},
     "output_type": "execute_result"
    }
   ],
   "source": [
    "(True and True) and (True == False)\n",
    "# False"
   ]
  },
  {
   "cell_type": "code",
   "execution_count": 8,
   "id": "27ec45d9",
   "metadata": {},
   "outputs": [
    {
     "data": {
      "text/plain": [
       "True"
      ]
     },
     "execution_count": 8,
     "metadata": {},
     "output_type": "execute_result"
    }
   ],
   "source": [
    "(not False) or (not True)\n",
    "# True"
   ]
  },
  {
   "cell_type": "markdown",
   "id": "e937c24d",
   "metadata": {},
   "source": [
    "Q5. What are the six comparison operators?"
   ]
  },
  {
   "cell_type": "code",
   "execution_count": null,
   "id": "cde05491",
   "metadata": {},
   "outputs": [],
   "source": [
    "#ans5."
   ]
  },
  {
   "cell_type": "markdown",
   "id": "32cf25b1",
   "metadata": {},
   "source": [
    "Six comparison operators:\n",
    "\n",
    "|Operators||Meaning|\n",
    "|-||-|\n",
    "|<||less than|\n",
    "|>||greater than|\n",
    "|<=||less than equal to|\n",
    "|>=||greater than eqaul to|\n",
    "|==||equal to|\n",
    "|!=||not equal to|"
   ]
  },
  {
   "cell_type": "markdown",
   "id": "2a045d14",
   "metadata": {},
   "source": [
    "Q6. How do you tell the difference between the equal to and assignment operators?Describe a condition and when you would use one."
   ]
  },
  {
   "cell_type": "code",
   "execution_count": null,
   "id": "90948508",
   "metadata": {},
   "outputs": [],
   "source": [
    "#ans6. \n",
    "# Comparison operator equal to uses two \"=\" sign\n",
    "# Assignment operator equal to uses single \"=\" sign\n",
    "#as shown in the below example:"
   ]
  },
  {
   "cell_type": "code",
   "execution_count": 9,
   "id": "d677fd72",
   "metadata": {},
   "outputs": [
    {
     "name": "stdout",
     "output_type": "stream",
     "text": [
      "False\n"
     ]
    }
   ],
   "source": [
    "a = 10\n",
    "b = 7            # uses assignment operator equal to assign values to a , b\n",
    "if a == b :      # uses comparison operator equal to compare a , b\n",
    "    print(\"True\")\n",
    "else:\n",
    "    print(\"False\")"
   ]
  },
  {
   "cell_type": "markdown",
   "id": "fb4fa8c0",
   "metadata": {},
   "source": [
    "Q7. Identify the three blocks in this code:\n",
    "```\n",
    "spam = 0\n",
    "if spam == 10:\n",
    "print('eggs')\n",
    "if spam > 5:\n",
    "print('bacon')\n",
    "else:\n",
    "print('ham')\n",
    "print('spam')\n",
    "print('spam')\n",
    "```"
   ]
  },
  {
   "cell_type": "code",
   "execution_count": null,
   "id": "83ff935b",
   "metadata": {},
   "outputs": [],
   "source": [
    "#ans7.\n",
    "# The three blocks are:"
   ]
  },
  {
   "cell_type": "markdown",
   "id": "e0acb411",
   "metadata": {},
   "source": [
    "1. ```if spam == 10:\n",
    "          print('eggs')```\n",
    "2. ```if spam >5:\n",
    "          print('bacon')```\n",
    "3. ```else:\n",
    "          print('ham')\n",
    "          print('spam')\n",
    "          print('spam')```"
   ]
  },
  {
   "cell_type": "markdown",
   "id": "b1ca1e26",
   "metadata": {},
   "source": [
    "Q8. Write code that prints Hello if 1 is stored in spam, prints Howdy if 2 is stored in spam, and prints Greetings! if anything else is stored in spam."
   ]
  },
  {
   "cell_type": "code",
   "execution_count": null,
   "id": "16a6b4a4",
   "metadata": {},
   "outputs": [],
   "source": [
    "#ans8."
   ]
  },
  {
   "cell_type": "code",
   "execution_count": 11,
   "id": "ebd1e3a2",
   "metadata": {},
   "outputs": [
    {
     "name": "stdout",
     "output_type": "stream",
     "text": [
      "Howdy\n"
     ]
    }
   ],
   "source": [
    "spam = 2\n",
    "if spam == 1:\n",
    "    print(\"Hello\")\n",
    "elif spam == 2:\n",
    "    print(\"Howdy\")\n",
    "else:\n",
    "    print(\"Greeting!\")"
   ]
  },
  {
   "cell_type": "markdown",
   "id": "6c0a20b4",
   "metadata": {},
   "source": [
    "Q9. If your programme is stuck in an endless loop, what keys you’ll press?"
   ]
  },
  {
   "cell_type": "code",
   "execution_count": null,
   "id": "cba876a3",
   "metadata": {},
   "outputs": [],
   "source": [
    "#ans9. \n",
    "# In that case we have to press interrupt the kernel, a square shape key in jupyter notebook."
   ]
  },
  {
   "cell_type": "markdown",
   "id": "8f66fe11",
   "metadata": {},
   "source": [
    "Q10. How can you tell the difference between break and continue?"
   ]
  },
  {
   "cell_type": "code",
   "execution_count": null,
   "id": "9e32cd0b",
   "metadata": {},
   "outputs": [],
   "source": [
    "#ans10.\n",
    "# break - it will terminate the loop or it will stop the entire loop.\n",
    "# continue - it skip the current iteration and will move to next iteration in the loop."
   ]
  },
  {
   "cell_type": "markdown",
   "id": "079dc455",
   "metadata": {},
   "source": [
    "Q11. In a for loop, what is the difference between range(10), range(0, 10), and range(0, 10, 1)?"
   ]
  },
  {
   "cell_type": "code",
   "execution_count": null,
   "id": "75ad7d1e",
   "metadata": {},
   "outputs": [],
   "source": [
    "#ans11.\n",
    "# There is no difference between the above three range all will have the output of range(0,10)"
   ]
  },
  {
   "cell_type": "markdown",
   "id": "a029e9f7",
   "metadata": {},
   "source": [
    "Q12. Write a short program that prints the numbers 1 to 10 using a for loop. Then write an equivalent program that prints the numbers 1 to 10 using a while loop."
   ]
  },
  {
   "cell_type": "code",
   "execution_count": null,
   "id": "94b5b03f",
   "metadata": {},
   "outputs": [],
   "source": [
    "#ans12."
   ]
  },
  {
   "cell_type": "code",
   "execution_count": 12,
   "id": "a4be3533",
   "metadata": {},
   "outputs": [
    {
     "name": "stdout",
     "output_type": "stream",
     "text": [
      "1\n",
      "2\n",
      "3\n",
      "4\n",
      "5\n",
      "6\n",
      "7\n",
      "8\n",
      "9\n",
      "10\n"
     ]
    }
   ],
   "source": [
    "for i in range(1,11):\n",
    "    print(i)"
   ]
  },
  {
   "cell_type": "code",
   "execution_count": 13,
   "id": "7797c34d",
   "metadata": {},
   "outputs": [
    {
     "name": "stdout",
     "output_type": "stream",
     "text": [
      "1\n",
      "2\n",
      "3\n",
      "4\n",
      "5\n",
      "6\n",
      "7\n",
      "8\n",
      "9\n",
      "10\n"
     ]
    }
   ],
   "source": [
    "i = 1\n",
    "while i<=10:\n",
    "    print(i)\n",
    "    i = i+1"
   ]
  },
  {
   "cell_type": "markdown",
   "id": "b2ac1f7e",
   "metadata": {},
   "source": [
    "Q13. If you had a function named bacon() inside a module named spam, how would you call it after importing spam?"
   ]
  },
  {
   "cell_type": "code",
   "execution_count": null,
   "id": "f001ae39",
   "metadata": {},
   "outputs": [],
   "source": [
    "#ans13."
   ]
  },
  {
   "cell_type": "code",
   "execution_count": null,
   "id": "b666c3c8",
   "metadata": {},
   "outputs": [],
   "source": [
    "import spam\n",
    "spam.bacon()"
   ]
  }
 ],
 "metadata": {
  "kernelspec": {
   "display_name": "Python 3 (ipykernel)",
   "language": "python",
   "name": "python3"
  },
  "language_info": {
   "codemirror_mode": {
    "name": "ipython",
    "version": 3
   },
   "file_extension": ".py",
   "mimetype": "text/x-python",
   "name": "python",
   "nbconvert_exporter": "python",
   "pygments_lexer": "ipython3",
   "version": "3.9.12"
  }
 },
 "nbformat": 4,
 "nbformat_minor": 5
}
